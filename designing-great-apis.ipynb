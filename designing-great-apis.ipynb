{
 "cells": [
  {
   "cell_type": "markdown",
   "metadata": {
    "slideshow": {
     "slide_type": "slide"
    }
   },
   "source": [
    "# Designing Great API's \n",
    "(By learning from Kenneth Reitz's `requests`)\n"
   ]
  },
  {
   "cell_type": "markdown",
   "metadata": {
    "slideshow": {
     "slide_type": "slide"
    }
   },
   "source": [
    "* When writing a package (library), providing it with a good API, is almost as important as it's functionality itself. \n",
    "* In this talk, we'll be following Kenneth Reitz popular [requests][requests url] (HTTP for Humans) package, and see what makes it so easy and simple to use.\n",
    "* **Python3** will be used throughout our investigation  \n",
    "\n",
    "[requests url]: http://docs.python-requests.org/en/master/"
   ]
  },
  {
   "cell_type": "markdown",
   "metadata": {
    "slideshow": {
     "slide_type": "slide"
    }
   },
   "source": [
    "## Requests vs. urllib\n",
    "* By reviewing how `requests` compares to `urllib` in some typical HTTP usage scenarios, we will extract some tips on what makes a good API.\n",
    "* In some of the cases we will also review `requests` implementation. "
   ]
  },
  {
   "cell_type": "markdown",
   "metadata": {
    "slideshow": {
     "slide_type": "slide"
    }
   },
   "source": [
    "## Tip #1: Explicit (API endpoints) is better than implicit"
   ]
  },
  {
   "cell_type": "code",
   "execution_count": null,
   "metadata": {
    "collapsed": false,
    "scrolled": true,
    "slideshow": {
     "slide_type": "subslide"
    }
   },
   "outputs": [],
   "source": [
    "import urllib.request\n",
    "urllib.request.urlopen('http://python.org/')"
   ]
  },
  {
   "cell_type": "code",
   "execution_count": null,
   "metadata": {
    "collapsed": false,
    "scrolled": true,
    "slideshow": {
     "slide_type": "fragment"
    }
   },
   "outputs": [],
   "source": [
    "import requests\n",
    "requests.get('http://python.org/')"
   ]
  },
  {
   "cell_type": "markdown",
   "metadata": {
    "slideshow": {
     "slide_type": "subslide"
    }
   },
   "source": [
    "* Notice how requests is more concise (hence, clear) about what it will do. \n",
    "* `urllib` is getting told implicitly to send a GET request since it didn't receive a data argument\n",
    "* `requests` function name explicitly mark what it will do. \n",
    "* Another thing we can see here is that `requests` returns a helpful string with the request status code when examining it (implements `__repr__()`)"
   ]
  },
  {
   "cell_type": "markdown",
   "metadata": {
    "slideshow": {
     "slide_type": "subslide"
    }
   },
   "source": [
    "#### [Implementation](https://github.com/kennethreitz/requests/blob/master/requests/api.py)"
   ]
  },
  {
   "cell_type": "code",
   "execution_count": null,
   "metadata": {
    "collapsed": true,
    "slideshow": {
     "slide_type": "fragment"
    }
   },
   "outputs": [],
   "source": [
    "def request(method, url, **kwargs):\n",
    "    with sessions.Session() as session:\n",
    "        return session.request(method=method, url=url, **kwargs)\n",
    "\n",
    "def get(url, params=None, **kwargs):\n",
    "    kwargs.setdefault('allow_redirects', True)\n",
    "    return request('get', url, params=params, **kwargs)\n",
    "\n",
    "def post(url, data=None, json=None, **kwargs):\n",
    "    return request('post', url, data=data, json=json, **kwargs)"
   ]
  },
  {
   "cell_type": "markdown",
   "metadata": {
    "slideshow": {
     "slide_type": "subslide"
    }
   },
   "source": [
    "* All the HTTP verbs follow a similar flow prior to sending, hence there is a the `request()` main flow function.\n",
    "* Implementing a \"helper function\" for each verb that calls `request()`, enables the explicitness we are looking for. "
   ]
  },
  {
   "cell_type": "markdown",
   "metadata": {
    "slideshow": {
     "slide_type": "slide"
    }
   },
   "source": [
    "## Tip #2: No need for getters and setters"
   ]
  },
  {
   "cell_type": "code",
   "execution_count": null,
   "metadata": {
    "collapsed": false,
    "slideshow": {
     "slide_type": "subslide"
    }
   },
   "outputs": [],
   "source": [
    "import urllib.request\n",
    "response = urllib.request.urlopen('http://python.org/')\n",
    "response.getcode()"
   ]
  },
  {
   "cell_type": "code",
   "execution_count": null,
   "metadata": {
    "collapsed": false,
    "slideshow": {
     "slide_type": "fragment"
    }
   },
   "outputs": [],
   "source": [
    "import requests\n",
    "r = requests.get('http://python.org/')\n",
    "r.status_code"
   ]
  },
  {
   "cell_type": "markdown",
   "metadata": {
    "slideshow": {
     "slide_type": "subslide"
    }
   },
   "source": [
    "* Accessing an object property as an actual property (and not a method call) makes the code a little clearer. \n",
    "* If you come from other OOP language (hmmm... Java), you might be tempted to use getters and setters to allow future changes to the object properties. \n",
    "* No need for that in Python, just use the [**`@property`**](http://www.programiz.com/python-programming/property) decorator."
   ]
  },
  {
   "cell_type": "markdown",
   "metadata": {
    "slideshow": {
     "slide_type": "slide"
    }
   },
   "source": [
    "## Tip #3: Easy access to common functionality"
   ]
  },
  {
   "cell_type": "code",
   "execution_count": null,
   "metadata": {
    "collapsed": false,
    "slideshow": {
     "slide_type": "subslide"
    }
   },
   "outputs": [],
   "source": [
    "import urllib.parse\n",
    "import urllib.request\n",
    "import json\n",
    "\n",
    "url = 'http://www.httpbin.org/post'\n",
    "values = {'name' : 'Michael Foord'}\n",
    "\n",
    "data = urllib.parse.urlencode(values).encode()\n",
    "response = urllib.request.urlopen(url, data)\n",
    "body = response.read().decode()\n",
    "json.loads(body)"
   ]
  },
  {
   "cell_type": "code",
   "execution_count": null,
   "metadata": {
    "collapsed": false,
    "slideshow": {
     "slide_type": "fragment"
    }
   },
   "outputs": [],
   "source": [
    "import requests\n",
    "\n",
    "url = 'http://www.httpbin.org/post'\n",
    "data = {'name' : 'Michael Foord'}\n",
    "\n",
    "response = requests.post(url, data=data)\n",
    "response.json()"
   ]
  },
  {
   "cell_type": "markdown",
   "metadata": {
    "slideshow": {
     "slide_type": "subslide"
    }
   },
   "source": [
    "* `requests` provides an out-of-the-box experience for the encoding of the data and loading the`json` response while in `urllib`...\n",
    "* When creating your API think: how will my package be commonly use? What plugs can I add to make that usage easier?"
   ]
  },
  {
   "cell_type": "markdown",
   "metadata": {
    "slideshow": {
     "slide_type": "subslide"
    }
   },
   "source": [
    "On the same note, `requests` also provides an elegant way to send `json` content:"
   ]
  },
  {
   "cell_type": "code",
   "execution_count": 19,
   "metadata": {
    "collapsed": false,
    "slideshow": {
     "slide_type": "fragment"
    }
   },
   "outputs": [
    {
     "data": {
      "text/plain": [
       "{'args': {},\n",
       " 'data': '{\"name\": \"Michael Foord\"}',\n",
       " 'files': {},\n",
       " 'form': {},\n",
       " 'headers': {'Accept': '*/*',\n",
       "  'Accept-Encoding': 'gzip, deflate',\n",
       "  'Content-Length': '25',\n",
       "  'Content-Type': 'application/json',\n",
       "  'Host': 'www.httpbin.org',\n",
       "  'User-Agent': 'python-requests/2.10.0'},\n",
       " 'json': {'name': 'Michael Foord'},\n",
       " 'origin': '5.29.130.38',\n",
       " 'url': 'http://www.httpbin.org/post'}"
      ]
     },
     "execution_count": 19,
     "metadata": {},
     "output_type": "execute_result"
    }
   ],
   "source": [
    "import requests\n",
    "\n",
    "url = 'http://www.httpbin.org/post'\n",
    "data = {'name' : 'Michael Foord'}\n",
    "\n",
    "response = requests.post(url, json=data)\n",
    "response.json()"
   ]
  },
  {
   "cell_type": "markdown",
   "metadata": {
    "slideshow": {
     "slide_type": "slide"
    }
   },
   "source": [
    "## Tip #4: Prefer Python data types over self-made ones "
   ]
  },
  {
   "cell_type": "code",
   "execution_count": null,
   "metadata": {
    "collapsed": true,
    "slideshow": {
     "slide_type": "subslide"
    }
   },
   "outputs": [],
   "source": [
    "import urllib.request\n",
    "\n",
    "gh_url = 'https://api.github.com/user'\n",
    "\n",
    "password_mgr = urllib.request.HTTPPasswordMgrWithDefaultRealm()\n",
    "password_mgr.add_password(None, gh_url, 'user', 'pswd')\n",
    "handler = urllib.request.HTTPBasicAuthHandler(password_mgr)\n",
    "\n",
    "opener = urllib.request.build_opener(handler)\n",
    "opener.open(gh_url)"
   ]
  },
  {
   "cell_type": "code",
   "execution_count": null,
   "metadata": {
    "collapsed": true,
    "slideshow": {
     "slide_type": "fragment"
    }
   },
   "outputs": [],
   "source": [
    "import requests\n",
    "\n",
    "requests.get('https://api.github.com/user', auth=('user', 'pswd'))"
   ]
  },
  {
   "cell_type": "markdown",
   "metadata": {
    "slideshow": {
     "slide_type": "subslide"
    }
   },
   "source": [
    "* `requests` uses Python's data structures to pass the authentication information whereas `urllib` demands you create a special class for that. "
   ]
  },
  {
   "cell_type": "markdown",
   "metadata": {
    "slideshow": {
     "slide_type": "subslide"
    }
   },
   "source": [
    "#### [Implementation](https://github.com/kennethreitz/requests/blob/fb014560611f6ebb97e7deb03ad8336c3c8f2db1/requests/models.py#L497-L497):"
   ]
  },
  {
   "cell_type": "code",
   "execution_count": null,
   "metadata": {
    "collapsed": true,
    "slideshow": {
     "slide_type": "fragment"
    }
   },
   "outputs": [],
   "source": [
    "def prepare_auth(self, auth, url=''):\n",
    "    \"\"\"Prepares the given HTTP auth data.\"\"\"\n",
    "\n",
    "    # ...\n",
    "\n",
    "    if auth:\n",
    "        if isinstance(auth, tuple) and len(auth) == 2:\n",
    "            # special-case basic HTTP auth\n",
    "            auth = HTTPBasicAuth(*auth)"
   ]
  },
  {
   "cell_type": "markdown",
   "metadata": {
    "slideshow": {
     "slide_type": "subslide"
    }
   },
   "source": [
    "* `requests` internally converts the `(user,pass)` tuple to an authentication class."
   ]
  },
  {
   "cell_type": "markdown",
   "metadata": {
    "slideshow": {
     "slide_type": "slide"
    }
   },
   "source": [
    "## Tip #5: Extensions are a package best friend"
   ]
  },
  {
   "cell_type": "code",
   "execution_count": 16,
   "metadata": {
    "collapsed": false,
    "slideshow": {
     "slide_type": "subslide"
    }
   },
   "outputs": [
    {
     "data": {
      "text/plain": [
       "{'args': {},\n",
       " 'headers': {'Accept': '*/*',\n",
       "  'Accept-Encoding': 'gzip, deflate',\n",
       "  'Host': 'httpbin.org',\n",
       "  'User-Agent': 'python-requests/2.10.0',\n",
       "  'X-Pizza': 'kenneth'},\n",
       " 'origin': '5.29.130.38',\n",
       " 'url': 'http://httpbin.org/get'}"
      ]
     },
     "execution_count": 16,
     "metadata": {},
     "output_type": "execute_result"
    }
   ],
   "source": [
    "from requests.auth import AuthBase\n",
    "\n",
    "class PizzaAuth(AuthBase):\n",
    "    \"\"\"Attaches HTTP Pizza Authentication to the given Request object.\"\"\"\n",
    "    def __init__(self, username):\n",
    "        # setup any auth-related data here\n",
    "        self.username = username\n",
    "\n",
    "    def __call__(self, r):\n",
    "        # modify and return the request\n",
    "        r.headers['X-Pizza'] = self.username\n",
    "        return r\n",
    "        \n",
    "requests.get('http://httpbin.org/get', auth=PizzaAuth('kenneth')).json()"
   ]
  },
  {
   "cell_type": "markdown",
   "metadata": {
    "slideshow": {
     "slide_type": "subslide"
    }
   },
   "source": [
    "* Depends on the domain and your package, there might be some different quirks that the user might need, providing a (documented!) extension mechanism can help the user adjust.\n",
    "* In this example we create a special authentication class for our request. "
   ]
  },
  {
   "cell_type": "markdown",
   "metadata": {
    "slideshow": {
     "slide_type": "slide"
    }
   },
   "source": [
    "## Tip #6: Let the user choose how to handle errors"
   ]
  },
  {
   "cell_type": "code",
   "execution_count": 10,
   "metadata": {
    "collapsed": false,
    "slideshow": {
     "slide_type": "subslide"
    }
   },
   "outputs": [
    {
     "name": "stdout",
     "output_type": "stream",
     "text": [
      "Page not found\n"
     ]
    }
   ],
   "source": [
    "from urllib.request import urlopen\n",
    "from urllib.error import URLError, HTTPError\n",
    "try:\n",
    "    response = urlopen('http://www.httpbin.org/geta')\n",
    "except HTTPError as e:\n",
    "    if e.code == 404:\n",
    "        print('Page not found')\n",
    "else:\n",
    "    print('All good')"
   ]
  },
  {
   "cell_type": "code",
   "execution_count": 11,
   "metadata": {
    "collapsed": false,
    "slideshow": {
     "slide_type": "subslide"
    }
   },
   "outputs": [
    {
     "name": "stdout",
     "output_type": "stream",
     "text": [
      "Page not found\n"
     ]
    }
   ],
   "source": [
    "import requests\n",
    "r = requests.get('http://www.httpbin.org/geta')\n",
    "if r.ok:\n",
    "    print('All good')\n",
    "elif r.status_code == requests.codes.not_found: \n",
    "    print('Page not found')"
   ]
  },
  {
   "cell_type": "code",
   "execution_count": 12,
   "metadata": {
    "collapsed": false,
    "slideshow": {
     "slide_type": "subslide"
    }
   },
   "outputs": [
    {
     "name": "stdout",
     "output_type": "stream",
     "text": [
      "Page not found\n"
     ]
    }
   ],
   "source": [
    "from requests.exceptions import HTTPError\n",
    "import requests\n",
    "r = requests.get('http://www.httpbin.org/posta')\n",
    "try:\n",
    "    r.raise_for_status()\n",
    "except HTTPError as e:\n",
    "    if e.response.status_code == 404:\n",
    "        print('Page not found')"
   ]
  },
  {
   "cell_type": "markdown",
   "metadata": {
    "collapsed": true,
    "slideshow": {
     "slide_type": "subslide"
    }
   },
   "source": [
    "* Some programmers prefer exceptions, some prefer checks.  \n",
    "* In some situations a check is much more elegant and sometimes it's the other way around.  \n",
    "* It's good to let your users to choose what to use when."
   ]
  }
 ],
 "metadata": {
  "celltoolbar": "Slideshow",
  "kernelspec": {
   "display_name": "Python 3",
   "language": "python",
   "name": "python3"
  },
  "language_info": {
   "codemirror_mode": {
    "name": "ipython",
    "version": 3
   },
   "file_extension": ".py",
   "mimetype": "text/x-python",
   "name": "python",
   "nbconvert_exporter": "python",
   "pygments_lexer": "ipython3",
   "version": "3.5.2"
  }
 },
 "nbformat": 4,
 "nbformat_minor": 0
}
